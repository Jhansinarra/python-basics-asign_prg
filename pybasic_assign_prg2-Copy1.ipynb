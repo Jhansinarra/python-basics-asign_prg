{
 "cells": [
  {
   "cell_type": "code",
   "execution_count": 1,
   "id": "869063d7",
   "metadata": {},
   "outputs": [
    {
     "name": "stdout",
     "output_type": "stream",
     "text": [
      "5.500 kilometers is equal to 3.418 miles\n"
     ]
    }
   ],
   "source": [
    "1.Write a python program to convert kilometers to meters?\n",
    "kilometers=5.5\n",
    "conv=0.621371\n",
    "miles=kilometers*conv\n",
    "print('%0.3f kilometers is equal to %0.3f miles' %(kilometers,miles))"
   ]
  },
  {
   "cell_type": "code",
   "execution_count": 3,
   "id": "d1abecb0",
   "metadata": {},
   "outputs": [
    {
     "name": "stdout",
     "output_type": "stream",
     "text": [
      "54degree selsius is equal to129.2degree fahrenheit\n"
     ]
    }
   ],
   "source": [
    "2.Write a python program to convert celsius to fahrenheit?\n",
    "celsius=54\n",
    "fahrenheit=(celsius*1.8)+32\n",
    "print(str(celsius)+\"degree selsius is equal to\"+str(fahrenheit)+\"degree fahrenheit\")"
   ]
  },
  {
   "cell_type": "code",
   "execution_count": 7,
   "id": "b2321169",
   "metadata": {},
   "outputs": [
    {
     "name": "stdout",
     "output_type": "stream",
     "text": [
      "      May 2000\n",
      "Mo Tu We Th Fr Sa Su\n",
      " 1  2  3  4  5  6  7\n",
      " 8  9 10 11 12 13 14\n",
      "15 16 17 18 19 20 21\n",
      "22 23 24 25 26 27 28\n",
      "29 30 31\n",
      "\n"
     ]
    }
   ],
   "source": [
    "3.Write a python progaram to dispaly calender?\n",
    "import calendar\n",
    " \n",
    "yy = 2000\n",
    "mm = 5\n",
    "print(calendar.month(yy, mm))"
   ]
  },
  {
   "cell_type": "code",
   "execution_count": 10,
   "id": "f93a33fc",
   "metadata": {},
   "outputs": [
    {
     "name": "stdout",
     "output_type": "stream",
     "text": [
      "the solutions are(-2.5-0.8660254037844386j) and(-2.5+0.8660254037844386j)\n"
     ]
    }
   ],
   "source": [
    "4.Write a python program to solve quadratic equation?\n",
    "import cmath\n",
    "a=1\n",
    "b=5\n",
    "c=7\n",
    "d=(b**2)-(4*a*c)\n",
    "sol1=(-b-cmath.sqrt(d))/(2*a)\n",
    "sol2=(-b+cmath.sqrt(d))/(2*a)\n",
    "print('the solutions are{0} and{1}'.format(sol1,sol2))"
   ]
  },
  {
   "cell_type": "code",
   "execution_count": 11,
   "id": "6bb89751",
   "metadata": {},
   "outputs": [
    {
     "name": "stdout",
     "output_type": "stream",
     "text": [
      "After swapping:x= 5 y= 10\n"
     ]
    }
   ],
   "source": [
    "5.Write a python program to swap 2 variables withput temp variables?\n",
    "x=10\n",
    "y=5\n",
    "x=x+y\n",
    "y=x-y\n",
    "x=x-y\n",
    "print(\"After swapping:x=\",x,\"y=\",y)"
   ]
  },
  {
   "cell_type": "code",
   "execution_count": null,
   "id": "1f6edbc5",
   "metadata": {},
   "outputs": [],
   "source": []
  }
 ],
 "metadata": {
  "kernelspec": {
   "display_name": "Python 3 (ipykernel)",
   "language": "python",
   "name": "python3"
  },
  "language_info": {
   "codemirror_mode": {
    "name": "ipython",
    "version": 3
   },
   "file_extension": ".py",
   "mimetype": "text/x-python",
   "name": "python",
   "nbconvert_exporter": "python",
   "pygments_lexer": "ipython3",
   "version": "3.9.13"
  }
 },
 "nbformat": 4,
 "nbformat_minor": 5
}
