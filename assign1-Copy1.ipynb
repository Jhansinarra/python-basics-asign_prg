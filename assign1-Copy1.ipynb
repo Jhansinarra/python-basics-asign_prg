{
 "cells": [
  {
   "cell_type": "code",
   "execution_count": 1,
   "id": "2bebb3f1",
   "metadata": {},
   "outputs": [
    {
     "name": "stdout",
     "output_type": "stream",
     "text": [
      "Hello Python\n"
     ]
    }
   ],
   "source": [
    "1.write a python program to print \"Hello World\"?\n",
    "print(\"Hello Python\")"
   ]
  },
  {
   "cell_type": "code",
   "execution_count": 2,
   "id": "f4fdba02",
   "metadata": {},
   "outputs": [
    {
     "name": "stdout",
     "output_type": "stream",
     "text": [
      "12\n",
      "1.2\n"
     ]
    }
   ],
   "source": [
    "2.Write a python program to do arithematical operations addition and division?\n",
    "a=2;b=10\n",
    "print(a+b)\n",
    "c=6;d=5\n",
    "print(c/d)"
   ]
  },
  {
   "cell_type": "code",
   "execution_count": 3,
   "id": "22999536",
   "metadata": {},
   "outputs": [
    {
     "name": "stdout",
     "output_type": "stream",
     "text": [
      "enter first side: 6\n",
      "enter second side: 8\n",
      "enter third number: 9\n",
      "The area of the triangle is 23.53\n"
     ]
    }
   ],
   "source": [
    "3.Write a python program to find area of triangle?\n",
    "a=float(input('enter first side: '))\n",
    "b=float(input('enter second side: '))\n",
    "c=float(input('enter third number: '))\n",
    "s=(a+b+c)/2\n",
    "area=(s*(s-a)*(s-b)*(s-c))**0.5\n",
    "print('The area of the triangle is %0.2f' %area)"
   ]
  },
  {
   "cell_type": "code",
   "execution_count": 4,
   "id": "662c240c",
   "metadata": {},
   "outputs": [
    {
     "name": "stdout",
     "output_type": "stream",
     "text": [
      "value of x: 5\n",
      "value of y: 10\n"
     ]
    }
   ],
   "source": [
    "4.Write a python program to swap two variables?\n",
    "x=10\n",
    "y=5\n",
    "temp=x\n",
    "x=y\n",
    "y=temp\n",
    "print(\"value of x:\",x)\n",
    "print(\"value of y:\",y)"
   ]
  },
  {
   "cell_type": "code",
   "execution_count": 5,
   "id": "7eb03d09",
   "metadata": {},
   "outputs": [
    {
     "name": "stdout",
     "output_type": "stream",
     "text": [
      "16\n"
     ]
    }
   ],
   "source": [
    "5.Write a python program to generate a random number?\n",
    "import random\n",
    "n=random.randint(0,50)\n",
    "print(n)"
   ]
  },
  {
   "cell_type": "code",
   "execution_count": null,
   "id": "5d2f4ab1",
   "metadata": {},
   "outputs": [],
   "source": []
  }
 ],
 "metadata": {
  "kernelspec": {
   "display_name": "Python 3 (ipykernel)",
   "language": "python",
   "name": "python3"
  },
  "language_info": {
   "codemirror_mode": {
    "name": "ipython",
    "version": 3
   },
   "file_extension": ".py",
   "mimetype": "text/x-python",
   "name": "python",
   "nbconvert_exporter": "python",
   "pygments_lexer": "ipython3",
   "version": "3.9.13"
  }
 },
 "nbformat": 4,
 "nbformat_minor": 5
}
